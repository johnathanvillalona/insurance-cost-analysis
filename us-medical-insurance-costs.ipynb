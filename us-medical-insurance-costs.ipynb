{
 "cells": [
  {
   "cell_type": "markdown",
   "metadata": {},
   "source": [
    "# U.S. Medical Insurance Costs"
   ]
  },
  {
   "cell_type": "markdown",
   "metadata": {},
   "source": [
    "## MEDICAL INSURANCE COSTS\n",
    "\n",
    "**Goals during analysis**\n",
    "\n",
    "* Find the factor that has the greatest affect on insurance cost.\n",
    "* Find the difference in affect that each factor has in cost and then decide if it is more effective to focus on one factor in order to lower cost, or on several.\n",
    "\n",
    "**How will I analyze the data in order to meet these goals?**\n",
    "\n",
    "* I will get total cost of insurance, as well as the average cost of insurance.\n",
    "* I will get the total cost for all the women vs the total cost for all the men and compare. I will also look at the total number of children between the 2 groups of sexes as well as the amount of smokers in both. Does one group have a much larger amount of children? Does one group smoke more than the other?\n",
    "* What percentage of the total cost do the men make up? What percentage of the total cost do the women make up? Is this due to another factor such as children or smoking?\n",
    "* Does the average cost differ greatly between regions?\n"
   ]
  },
  {
   "cell_type": "code",
   "execution_count": 125,
   "metadata": {},
   "outputs": [
    {
     "name": "stdout",
     "output_type": "stream",
     "text": [
      "The total cost of insurance is 17755824.99\n",
      "The average cost of insurance is 13270.42\n",
      "The highest cost of insurance is 63770.43\n",
      "The lowest cost of insurance is 1121.87\n",
      "\n",
      "The total insurance cost for men is 9434763.8\n",
      "The total insurance cost for women is 8321061.19\n",
      "The data surveys 676 men and 662 women.\n",
      "The total amount of children for men is 754\n",
      "The total amount of children for women is 711\n",
      "The total amount of male smokers is 676\n",
      "The total amount of female smokers is 662\n",
      "The average male BMI is 30.94\n",
      "The average female BMI is 30.38\n"
     ]
    }
   ],
   "source": [
    "import csv\n",
    "bmis = []\n",
    "ages = []\n",
    "sexs = []\n",
    "children = []\n",
    "smoker = []\n",
    "region = []\n",
    "charges = []\n",
    "with open(\"insurance.csv\") as insurance_data:\n",
    "    insurance_csv = csv.DictReader(insurance_data)\n",
    "    for row in insurance_csv:\n",
    "        data_row = row\n",
    "        bmis.append(data_row[\"bmi\"])\n",
    "        ages.append(data_row[\"age\"])\n",
    "        sexs.append(data_row[\"sex\"])\n",
    "        children.append(data_row[\"children\"])\n",
    "        smoker.append(data_row[\"smoker\"])\n",
    "        region.append(data_row[\"region\"])\n",
    "        charges.append(float(data_row[\"charges\"]))\n",
    "        \n",
    "def total_cost(costs):\n",
    "    total = 0\n",
    "    for i in costs:\n",
    "        total+=i\n",
    "    return total\n",
    "\n",
    "ordered_charges = sorted(charges)\n",
    "\n",
    "total_charges = round(total_cost(ordered_charges), 2)\n",
    "average_cost = round(total_charges/len(ordered_charges), 2)\n",
    "print(\"The total cost of insurance is \" + str(total_charges))\n",
    "print(\"The average cost of insurance is \" + str(average_cost))\n",
    "print(\"The highest cost of insurance is \" + str(round(ordered_charges[-1], 2)))\n",
    "print(\"The lowest cost of insurance is \" + str(round(ordered_charges[0], 2)))\n",
    "print()\n",
    "\n",
    "def cost_by_sex(costs):\n",
    "    men_cost = 0\n",
    "    women_cost = 0\n",
    "    counter = 0\n",
    "    for i in costs:\n",
    "        if sexs[counter] == \"male\":\n",
    "            men_cost+=i\n",
    "            counter+=1\n",
    "        else:\n",
    "            women_cost+=i\n",
    "            counter+=1\n",
    "    return men_cost, women_cost\n",
    "total_costs_men, total_costs_women = cost_by_sex(charges)\n",
    "print(\"The total insurance cost for men is \" + str(round(total_costs_men, 2)))\n",
    "print(\"The total insurance cost for women is \" + str(round(total_costs_women, 2)))\n",
    "\n",
    "men_amt = 0\n",
    "women_amt = 0\n",
    "\n",
    "for i in sexs:\n",
    "    if i == \"male\":\n",
    "        men_amt+=1\n",
    "    else:\n",
    "        women_amt+=1\n",
    "print(\"The data surveys \" + str(men_amt) + \" men and \" + str(women_amt) + \" women.\")\n",
    "\n",
    "def children_by_sex():\n",
    "    men_children_total = 0\n",
    "    women_children_total = 0\n",
    "    counter = 0\n",
    "    for i in sexs:\n",
    "        if i == \"male\":\n",
    "            men_children_total+=int(children[counter])\n",
    "            counter+=1\n",
    "        else:\n",
    "            women_children_total+=int(children[counter])\n",
    "            counter+=1\n",
    "    return men_children_total, women_children_total\n",
    "male_total_kids, female_total_kids = children_by_sex()\n",
    "print(\"The total amount of children for men is \" + str(male_total_kids))\n",
    "print(\"The total amount of children for women is \" + str(female_total_kids))\n",
    "\n",
    "def smokers_by_sex():\n",
    "    women_smokers = 0\n",
    "    male_smokers = 0\n",
    "    for i in sexs:\n",
    "        if i == \"male\":\n",
    "            male_smokers+=1\n",
    "        else:\n",
    "            women_smokers+=1\n",
    "    return women_smokers, male_smokers\n",
    "wsmokers, msmokers = smokers_by_sex()\n",
    "print(\"The total amount of male smokers is \" + str(msmokers))\n",
    "print(\"The total amount of female smokers is \" + str(wsmokers))\n",
    "\n",
    "def average_bmi():\n",
    "    male_avg = 0\n",
    "    female_avg = 0\n",
    "    counter = 0\n",
    "    mc = 0\n",
    "    fc = 0\n",
    "    for i in sexs:\n",
    "        if i == \"male\":\n",
    "            male_avg += float(bmis[counter])\n",
    "            counter+=1\n",
    "            mc+=1\n",
    "        else:\n",
    "            female_avg += float(bmis[counter])\n",
    "            counter+=1\n",
    "            fc+=1\n",
    "    male_avg = male_avg/mc\n",
    "    female_avg = female_avg/fc\n",
    "    return male_avg, female_avg\n",
    "m_avg, f_avg = average_bmi()\n",
    "print(\"The average male BMI is \" + str(round(m_avg, 2)))\n",
    "print(\"The average female BMI is \" + str(round(f_avg, 2)))\n"
   ]
  },
  {
   "cell_type": "markdown",
   "metadata": {},
   "source": []
  },
  {
   "cell_type": "markdown",
   "metadata": {},
   "source": [
    "## Initial Data Analysis\n",
    "\n",
    "It seems that the data collected has very similar averages between genders in all data points. Men do pay slightly more, however they are also the gender that was surveyed most by a small margin. Because of this men also lead in all data points including more children, more smokers, and an insignificantly higher average BMI. \n",
    "\n",
    "It is difficult to draw significant conclusions from this data so far, except that gender does not play a significant factor in cost of insurance. My next step is to identify the information of the 10 highest paying people and the 10 lowest paying people and extract what data may contribute to those costs."
   ]
  },
  {
   "cell_type": "code",
   "execution_count": 151,
   "metadata": {
    "scrolled": true
   },
   "outputs": [
    {
     "name": "stdout",
     "output_type": "stream",
     "text": [
      "The person with the number 1 highest cost of 63770.43 is 54 years old. They have 0 children. They are female and have a BMI of 47.41. Do they smoke? yes\n",
      "The person with the number 2 highest cost of 62592.87 is 45 years old. They have 0 children. They are male and have a BMI of 30.36. Do they smoke? yes\n",
      "The person with the number 3 highest cost of 60021.4 is 52 years old. They have 3 children. They are male and have a BMI of 34.485. Do they smoke? yes\n",
      "The person with the number 4 highest cost of 58571.07 is 31 years old. They have 1 children. They are female and have a BMI of 38.095. Do they smoke? yes\n",
      "The person with the number 5 highest cost of 55135.4 is 33 years old. They have 0 children. They are female and have a BMI of 35.53. Do they smoke? yes\n",
      "The person with the number 6 highest cost of 52590.83 is 60 years old. They have 0 children. They are male and have a BMI of 32.8. Do they smoke? yes\n",
      "The person with the number 7 highest cost of 51194.56 is 28 years old. They have 1 children. They are male and have a BMI of 36.4. Do they smoke? yes\n",
      "The person with the number 8 highest cost of 49577.66 is 64 years old. They have 2 children. They are male and have a BMI of 36.96. Do they smoke? yes\n",
      "The person with the number 9 highest cost of 48970.25 is 59 years old. They have 1 children. They are male and have a BMI of 41.14. Do they smoke? yes\n",
      "The person with the number 10 highest cost of 48885.14 is 44 years old. They have 0 children. They are female and have a BMI of 38.06. Do they smoke? yes\n",
      "\n",
      "The person with the number 1 lowest cost of 1121.87 is 18 years old. They have 0 children. They are male and have a BMI of 23.21. Do they smoke? no\n",
      "The person with the number 2 lowest cost of 1131.51 is 18 years old. They have 0 children. They are male and have a BMI of 30.14. Do they smoke? no\n",
      "The person with the number 3 lowest cost of 1135.94 is 18 years old. They have 0 children. They are male and have a BMI of 33.33. Do they smoke? no\n",
      "The person with the number 4 lowest cost of 1136.4 is 18 years old. They have 0 children. They are male and have a BMI of 33.66. Do they smoke? no\n",
      "The person with the number 5 lowest cost of 1137.01 is 18 years old. They have 0 children. They are male and have a BMI of 34.1. Do they smoke? no\n",
      "The person with the number 6 lowest cost of 1137.47 is 18 years old. They have 0 children. They are male and have a BMI of 34.43. Do they smoke? no\n",
      "The person with the number 7 lowest cost of 1141.45 is 18 years old. They have 0 children. They are male and have a BMI of 37.29. Do they smoke? no\n",
      "The person with the number 8 lowest cost of 1146.8 is 18 years old. They have 0 children. They are male and have a BMI of 41.14. Do they smoke? no\n",
      "The person with the number 9 lowest cost of 1149.4 is 18 years old. They have 0 children. They are male and have a BMI of 43.01. Do they smoke? no\n",
      "The person with the number 10 lowest cost of 1163.46 is 18 years old. They have 0 children. They are male and have a BMI of 53.13. Do they smoke? no\n"
     ]
    }
   ],
   "source": [
    "def highest_lowest_cost(x,y):\n",
    "    high_cost = {}\n",
    "    low_cost = {}\n",
    "    for i in range(x,y):\n",
    "        index = charges.index(ordered_charges[-i])\n",
    "        index2 = charges.index(ordered_charges[i-1])\n",
    "        high_cost.update({i: {\"Cost\": round(charges[index], 2), \"BMI\": bmis[index], \"Sex\": sexs[index], \"Children\": children[index], \"Smoker\": smoker[index], \"Region\": region[index], \"Age\": ages[index]}})\n",
    "        low_cost.update({i: {\"Cost\": round(charges[index2], 2), \"BMI\": bmis[index2], \"Sex\": sexs[index2], \"Children\": children[index2], \"Smoker\": smoker[index2], \"Region\": region[index2], \"Age\": ages[index2]}})\n",
    "    return high_cost, low_cost\n",
    "ten_high_cost, ten_low_cost = highest_lowest_cost(1,11)\n",
    "for i in range(1,11):\n",
    "    print(\"The person with the number \" + str(i) + \" highest cost of \" + str(ten_high_cost[i].get(\"Cost\")) + \" is \" + str(ten_high_cost[i].get(\"Age\")) + \" years old. They have \" + str(ten_high_cost[i].get(\"Children\")) + \" children. They are \" + str(ten_high_cost[i].get(\"Sex\")) + \" and have a BMI of \" + str(ten_high_cost[i].get(\"BMI\")) + \". Do they smoke? \" + ten_high_cost[i].get(\"Smoker\"))\n",
    "\n",
    "print(\"\")\n",
    "for i in range(1,11):\n",
    "    print(\"The person with the number \" + str(i) + \" lowest cost of \" + str(ten_low_cost[i].get(\"Cost\")) + \" is \" + str(ten_low_cost[i].get(\"Age\")) + \" years old. They have \" + str(ten_low_cost[i].get(\"Children\")) + \" children. They are \" + str(ten_low_cost[i].get(\"Sex\")) + \" and have a BMI of \" + str(ten_low_cost[i].get(\"BMI\")) + \". Do they smoke? \" + ten_low_cost[i].get(\"Smoker\"))\n"
   ]
  },
  {
   "cell_type": "markdown",
   "metadata": {},
   "source": [
    "## Secondary Data Analysis\n",
    "\n",
    "Understandably, 10 data points from the highest paying and lowest paying individuals can only allow me to form very broad conclusions, however it did give me some insight into the larger data. \n",
    "\n",
    "* In the top 10 highest paying individuals, all were smokers.\n",
    "* In the top 10 lowest paying individuals, none were smokers\n",
    "* In the top 10 lowest paying individuals, none had children. \n",
    "    * This could be insignificant, as some of the top 10 highest payers also had no children.\n",
    "\n",
    "So far it seems that smoking is the factor that most influences cost, however, I haven't begun looking at BMI averages as 10 people on both ends of the data set wouldn't be enough to form a conclusion. My next goal is to calculate the average of the top 100 and the bottom 100."
   ]
  },
  {
   "cell_type": "code",
   "execution_count": 182,
   "metadata": {},
   "outputs": [
    {
     "name": "stdout",
     "output_type": "stream",
     "text": [
      "The average bmi for the top 100 paying insured is 36.4673\n",
      "The average bmi for the bottom 100 paying insured is 30.014950000000013\n",
      "Out of the 100 people in the highest paying insured, 100 of them smoke.\n",
      "Out of the 100 people in the lowest paying insured, 0 of them smoke.\n"
     ]
    }
   ],
   "source": [
    "tophundred, bothundred = highest_lowest_cost(1,101)\n",
    "def average_bmi(dictionary):\n",
    "    average = 0.0\n",
    "    for i in dictionary.values():\n",
    "       average+=float(i.get(\"BMI\"))\n",
    "    average = average/100\n",
    "    return average\n",
    "print(\"The average bmi for the top 100 paying insured is \" + str(average_bmi(tophundred)))\n",
    "print(\"The average bmi for the bottom 100 paying insured is \" + str(average_bmi(bothundred)))\n",
    "\n",
    "def total_smokers(dictionary):\n",
    "    smoke = 0\n",
    "    for i in dictionary.values():\n",
    "        if i.get(\"Smoker\") == \"yes\":\n",
    "            smoke+=1\n",
    "    return smoke\n",
    "print(\"Out of the 100 people in the highest paying insured, \" + str(total_smokers(tophundred)) + \" of them smoke.\")\n",
    "print(\"Out of the 100 people in the lowest paying insured, \" + str(total_smokers(bothundred)) + \" of them smoke.\")"
   ]
  },
  {
   "cell_type": "markdown",
   "metadata": {},
   "source": [
    "## Final Conclusion\n",
    "\n",
    "From the data gathered so far, it seems that the single factor that plays the largest role in cost of insurance is whether or not the individual smokes. This is shown by the fact that the top 100 highest paying individuals are all smokers, and the bottom 100 lowest paying individuals are not.\n",
    "\n",
    "A higher BMI also seems to a factor for higher paying individuals. (This is only based on an average of the top and bottom 100.)"
   ]
  }
 ],
 "metadata": {
  "kernelspec": {
   "display_name": "Python 3 (ipykernel)",
   "language": "python",
   "name": "python3"
  },
  "language_info": {
   "codemirror_mode": {
    "name": "ipython",
    "version": 3
   },
   "file_extension": ".py",
   "mimetype": "text/x-python",
   "name": "python",
   "nbconvert_exporter": "python",
   "pygments_lexer": "ipython3",
   "version": "3.10.9"
  }
 },
 "nbformat": 4,
 "nbformat_minor": 4
}
